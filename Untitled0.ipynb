{
  "cells": [
    {
      "cell_type": "markdown",
      "metadata": {
        "id": "view-in-github",
        "colab_type": "text"
      },
      "source": [
        "<a href=\"https://colab.research.google.com/github/sophisticate9008/googlecolab-ai-/blob/main/Untitled0.ipynb\" target=\"_parent\"><img src=\"https://colab.research.google.com/assets/colab-badge.svg\" alt=\"Open In Colab\"/></a>"
      ]
    },
    {
      "cell_type": "code",
      "execution_count": null,
      "metadata": {
        "id": "xXCkylxuZ659"
      },
      "outputs": [],
      "source": [
        "import os\n",
        "os.kill(os.getpid(), 9) # This will crash Colab (required, everything will still be intact so dont worry)"
      ]
    },
    {
      "cell_type": "code",
      "execution_count": null,
      "metadata": {
        "colab": {
          "background_save": true
        },
        "id": "NY71LhwF4-Xz"
      },
      "outputs": [],
      "source": [
        "!pip install gdown"
      ]
    },
    {
      "cell_type": "code",
      "execution_count": null,
      "metadata": {
        "colab": {
          "background_save": true
        },
        "id": "pld9Z7iDauZS"
      },
      "outputs": [],
      "source": [
        "!git clone https://github.com/AUTOMATIC1111/stable-diffusion-webui\n",
        "%cd stable-diffusion-webui"
      ]
    },
    {
      "cell_type": "code",
      "execution_count": null,
      "metadata": {
        "colab": {
          "background_save": true
        },
        "id": "mJDUNAZGbImy"
      },
      "outputs": [],
      "source": [
        "!COMMANDLINE_ARGS=\"--exit\" REQS_FILE=\"requirements.txt\" python launch.py"
      ]
    },
    {
      "cell_type": "code",
      "execution_count": null,
      "metadata": {
        "colab": {
          "background_save": true
        },
        "id": "z9tGp9KQbLBx"
      },
      "outputs": [],
      "source": [
        "%cd stable-diffusion-webui\n",
        "!git pull"
      ]
    },
    {
      "cell_type": "code",
      "execution_count": null,
      "metadata": {
        "colab": {
          "background_save": true
        },
        "id": "1wk8WfJtaFFS"
      },
      "outputs": [],
      "source": [
        "import gdown\n",
        "\n",
        "f = open(\"/content/stable-diffusion-webui/models/Stable-diffusion/anime.ckpt\", \"w\")\n",
        "gdown.download(\"https://drive.google.com/u/0/uc?id=1DCyDnEcVW817uu46qwlMDOz3gzQwlwnn&export=download\", output=\"/content/stable-diffusion-webui/models/Stable-diffusion/anime.ckpt\")\n",
        "f.close\n",
        "\n",
        "f = open(\"/content/stable-diffusion-webui/models/Stable-diffusion/anime.vae.pt\", \"w\")\n",
        "gdown.download(\"https://drive.google.com/u/0/uc?id=1Yzgkhrec0Nt3Yv9aNBOmsxosvwdmKnZf&export=download\", output=\"/content/stable-diffusion-webui/models/Stable-diffusion/anime.vae.pt\")\n",
        "f.close\n",
        "\n",
        "f = open(\"/content/stable-diffusion-webui/models/Stable-diffusion/config.yaml\", \"w\")\n",
        "gdown.download(\"https://drive.google.com/u/0/uc?id=1TGA6xS1LYBrdWv_gLCSYfbgGdBopuw5_&export=download\", output=\"/content/stable-diffusion-webui/models/Stable-diffusion/config.yaml\")\n",
        "f.close\n"
      ]
    },
    {
      "cell_type": "code",
      "execution_count": null,
      "metadata": {
        "colab": {
          "background_save": true
        },
        "id": "6cdRQ815CWjW"
      },
      "outputs": [],
      "source": [
        "import os\n",
        "\n",
        "os.mkdir(\"/content/stable-diffusion-webui/models/hypernetworks\")\n",
        "\n",
        "f = open(\"/content/stable-diffusion-webui/models/hypernetworks/anime.pt\", \"w\")\n",
        "gdown.download(\"https://drive.google.com/u/0/uc?id=1jwGZCw_R3zQpJGbJZFdsQHCu9a9G3Pip&export=download\", output=\"/content/stable-diffusion-webui/models/hypernetworks/anime.pt\")\n",
        "f.close\n",
        "\n",
        "f = open(\"/content/stable-diffusion-webui/models/hypernetworks/anime_2.pt\", \"w\")\n",
        "gdown.download(\"https://drive.google.com/u/0/uc?id=1rYUgd-O_A3A538rdNYQUUkWpjNB78337&export=download\", output=\"/content/stable-diffusion-webui/models/hypernetworks/anime_2.pt\")\n",
        "f.close\n",
        "\n",
        "f = open(\"/content/stable-diffusion-webui/models/hypernetworks/anime_3.pt\", \"w\")\n",
        "gdown.download(\"https://drive.google.com/u/0/uc?id=1uGlyjZvBkvfKdw0ysNws-dvUjC0rh9IR&export=download\", output=\"/content/stable-diffusion-webui/models/hypernetworks/anime_3.pt\")\n",
        "f.close"
      ]
    },
    {
      "cell_type": "code",
      "execution_count": null,
      "metadata": {
        "colab": {
          "background_save": true
        },
        "id": "a06fZ6RAb-xy"
      },
      "outputs": [],
      "source": [
        "!COMMANDLINE_ARGS=\"--share --gradio-debug\" REQS_FILE=\"requirements.txt\" python launch.py"
      ]
    },
    {
      "cell_type": "code",
      "execution_count": null,
      "metadata": {
        "id": "7343iq-Nak9C"
      },
      "outputs": [],
      "source": []
    }
  ],
  "metadata": {
    "accelerator": "GPU",
    "colab": {
      "collapsed_sections": [],
      "provenance": [],
      "authorship_tag": "ABX9TyOJSmUICLonbCD4+CiNDDu9",
      "include_colab_link": true
    },
    "kernelspec": {
      "display_name": "Python 3",
      "name": "python3"
    },
    "language_info": {
      "name": "python"
    }
  },
  "nbformat": 4,
  "nbformat_minor": 0
}
